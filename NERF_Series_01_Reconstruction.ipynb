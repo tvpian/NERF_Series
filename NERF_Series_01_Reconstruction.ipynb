{
  "nbformat": 4,
  "nbformat_minor": 0,
  "metadata": {
    "colab": {
      "provenance": [],
      "authorship_tag": "ABX9TyNA9o/IjYRuSP+47qDZ65Ud",
      "include_colab_link": true
    },
    "kernelspec": {
      "name": "python3",
      "display_name": "Python 3"
    },
    "language_info": {
      "name": "python"
    }
  },
  "cells": [
    {
      "cell_type": "markdown",
      "metadata": {
        "id": "view-in-github",
        "colab_type": "text"
      },
      "source": [
        "<a href=\"https://colab.research.google.com/github/tvpian/NERF_Series/blob/main/NERF_Series_01_Reconstruction.ipynb\" target=\"_parent\"><img src=\"https://colab.research.google.com/assets/colab-badge.svg\" alt=\"Open In Colab\"/></a>"
      ]
    },
    {
      "cell_type": "code",
      "execution_count": 4,
      "metadata": {
        "id": "LRFItBGWdhq6"
      },
      "outputs": [],
      "source": [
        "import torch\n",
        "import numpy as np\n",
        "from tqdm import tqdm\n",
        "import matplotlib.pyplot as plt\n",
        "from simulator import simulator"
      ]
    },
    {
      "cell_type": "code",
      "source": [],
      "metadata": {
        "id": "4MhTh-umec3V"
      },
      "execution_count": null,
      "outputs": []
    },
    {
      "cell_type": "code",
      "source": [
        "# Replicating a scenario where an object is thrown from a initial position with\n",
        "# a non-zero velocity\n",
        "\n",
        "x0 = torch.tensor([0.0, 0.0])\n",
        "v0 = torch.tensor([10.0, 10.0])\n",
        "x = torch.cat((x0, v0))\n",
        "Ax = simulator(x, t=3)"
      ],
      "metadata": {
        "id": "T0NdXLMpeXeT"
      },
      "execution_count": 14,
      "outputs": []
    },
    {
      "cell_type": "code",
      "source": [
        "all_pos = []\n",
        "for t in range(100):\n",
        "    y = simulator(x, t=t/20)\n",
        "    all_pos.append(y[:2])\n",
        "all_pos = np.array(all_pos)\n",
        "plt.scatter(all_pos[:, 0], all_pos[:, 1])\n",
        "plt.show()"
      ],
      "metadata": {
        "colab": {
          "base_uri": "https://localhost:8080/",
          "height": 430
        },
        "id": "4RqKhdWzghfb",
        "outputId": "57783448-be3a-4e0b-99ea-cd4c44c179b6"
      },
      "execution_count": 15,
      "outputs": [
        {
          "output_type": "display_data",
          "data": {
            "text/plain": [
              "<Figure size 640x480 with 1 Axes>"
            ],
            "image/png": "[encoded data removed]"
          },
          "metadata": {}
        }
      ]
    },
    {
      "cell_type": "code",
      "source": [],
      "metadata": {
        "id": "vpPc-TtLg-Bp"
      },
      "execution_count": null,
      "outputs": []
    },
    {
      "cell_type": "markdown",
      "source": [
        "\\begin{equation}\n",
        "\\arg \\min_x\\|A(x) - b\\|_2^2\n",
        "\\end{equation}\n",
        "x -  It is the NERF model we wish to optimize\n",
        ":\n",
        "A - the model that can simulate how the pictures taken from a camera or phone would look lie  "
      ],
      "metadata": {
        "id": "YmM4WB0spA2e"
      }
    },
    {
      "cell_type": "code",
      "source": [],
      "metadata": {
        "id": "lFtViNmvoCOz"
      },
      "execution_count": null,
      "outputs": []
    }
  ]
}